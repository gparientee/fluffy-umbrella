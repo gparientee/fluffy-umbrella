{
 "cells": [
  {
   "cell_type": "markdown",
   "metadata": {
    "id": "06QtjRZNCe2v"
   },
   "source": [
    "# Option Pricing \n",
    "The model assumes that the price of the stock follows the random walk $dS_t = S_t \\mu dt + σ S_t dW_t$ where $W$ is a geometric Brownian motion (stochastic variable). Under risk-neutral pricing, stock trajectories can be simulated with $S_t = S_{t-1} e^{(r - \\frac{1}{2}\\sigma^2)dt} e^{\\sigma Z_t \\sqrt{dt}}$ where $r$ is the risk-free discount rate and $Z$ is standard normal random variable."
   ]
  },
  {
   "cell_type": "code",
   "execution_count": 2,
   "metadata": {},
   "outputs": [],
   "source": [
    "import numpy as np\n",
    "from numpy import log, sqrt, exp\n",
    "from scipy.stats import norm"
   ]
  },
  {
   "cell_type": "code",
   "execution_count": 8,
   "metadata": {
    "id": "715-U-PbnHpV"
   },
   "outputs": [],
   "source": [
    "def blackscholes(S, K, T, r, σ):\n",
    "  d1 = (log(S/K) + (r + σ**2 / 2) * T) / (σ*sqrt(T))\n",
    "  d2 = d1 - σ * sqrt(T)\n",
    "  call = S * norm.cdf(d1) - K * exp(-r*T) * norm.cdf(d2)\n",
    "  put = K * exp(-r*T) * norm.cdf(-d2) - S * norm.cdf(-d1)\n",
    "  return call, put"
   ]
  },
  {
   "cell_type": "code",
   "execution_count": 11,
   "metadata": {},
   "outputs": [
    {
     "name": "stdout",
     "output_type": "stream",
     "text": [
      "(7.50513887446543, 2.628081324536833)\n"
     ]
    }
   ],
   "source": [
    "S = 100\n",
    "K = 100\n",
    "T = 1\n",
    "r = .05\n",
    "σ = .12\n",
    "\n",
    "print(blackscholes(S, K, T, r, σ))"
   ]
  },
  {
   "cell_type": "code",
   "execution_count": 75,
   "metadata": {
    "id": "BD9DdOKNRgdm"
   },
   "outputs": [],
   "source": [
    "def paths(S, K, T, r, σ, N, steps):\n",
    "  rng = np.random.default_rng()\n",
    "  Z = rng.standard_normal((N, steps))\n",
    "  dt = T / steps\n",
    "  prices = np.zeros((N, steps))\n",
    "  prices[:,0] = S\n",
    "  for i in range(1, steps):\n",
    "    prices[:,i] = prices[:,i-1] * exp((r-σ**2/2)*dt+σ*Z[:,i]*sqrt(dt))\n",
    "  return prices\n",
    "\n",
    "def european(ST, K, T, r):\n",
    "  payoff = np.maximum((ST - K), 0)\n",
    "  call = np.average(payoff * exp(-r * T))\n",
    "  payoff = np.maximum((K - ST), 0)\n",
    "  put = np.average(payoff * exp(-r * T))\n",
    "  return call, put\n",
    "\n",
    "def asian(SA, K, T, r):\n",
    "  \"\"\"\n",
    "  arithmetic average, fixed strike\n",
    "  \"\"\"\n",
    "  payoff = np.maximum(SA - K, 0)\n",
    "  call = np.average(payoff * exp(-r * T))\n",
    "  payoff = np.maximum(K - SA, 0)\n",
    "  put = np.average(payoff * exp(-r * T))\n",
    "  return call, put"
   ]
  },
  {
   "cell_type": "code",
   "execution_count": 76,
   "metadata": {
    "id": "IwFBdyvK_CTU"
   },
   "outputs": [
    {
     "name": "stdout",
     "output_type": "stream",
     "text": [
      "(7.50513887446543, 2.628081324536833)\n",
      "(4.083505876644273, 1.601654276038386)\n"
     ]
    }
   ],
   "source": [
    "S = 100\n",
    "K = 100\n",
    "T = 1\n",
    "r = .05\n",
    "σ = .12\n",
    "N = 10000\n",
    "steps = 20000\n",
    "\n",
    "print(blackscholes(S, K, T, r, σ))\n",
    "prices = paths(S, K, T, r, σ, N, steps)\n",
    "print(asian(np.average(prices, axis=1), K, T, r))"
   ]
  },
  {
   "cell_type": "markdown",
   "metadata": {},
   "source": [
    "Machine Learning (ML) approach using Sklearn.\n",
    "\n",
    "Regression model to price European calls around S=100, K=100 and T=1 using ML.\n",
    "\n",
    "Using the Black-Scholes analytical solution to generate the synthetic data needed for the training."
   ]
  },
  {
   "cell_type": "code",
   "execution_count": 46,
   "metadata": {},
   "outputs": [],
   "source": [
    "# generate synthetic data in the vicinity of S=100, K=100, T=1, etc. and save it to disk\n",
    "SK = np.arange(99, 101, 0.05)\n",
    "T = np.arange(0.9, 1.1, 0.05)\n",
    "r = np.arange(0.02, 0.05, 0.001)\n",
    "σ = np.arange(0.1, 0.2, 0.01)\n",
    "SS, KK, TT, rr, σσ = np.meshgrid(SK, SK, T, r, σ)\n",
    "YY = blackscholes(SS, KK, TT, rr, σσ)\n",
    "YY = YY[0]\n",
    "rows = np.stack([z.ravel() for z in (YY, SS, KK, TT, rr, σσ)], axis=1)\n",
    "np.savetxt('data.csv', rows, fmt='%.5f', delimiter=',', newline='\\n', comments='', header='Call,S,K,T,r,sigma')"
   ]
  },
  {
   "cell_type": "code",
   "execution_count": 66,
   "metadata": {},
   "outputs": [
    {
     "name": "stdout",
     "output_type": "stream",
     "text": [
      "Fichier datacall.csv sauvegardé avec succès !\n"
     ]
    }
   ],
   "source": [
    "SK = np.arange(99, 101, 0.05)\n",
    "T = np.arange(0.9, 1.1, 0.05)\n",
    "r = np.arange(0.02, 0.05, 0.001)\n",
    "σ = np.arange(0.1, 0.2, 0.01)\n",
    "SS, KK, TT, rr, σσ = np.meshgrid(SK, SK, T, r, σ)\n",
    "YY = blackscholes(SS, KK, TT, rr, σσ)\n",
    "\n",
    "Y_flat    = YY[0].ravel()\n",
    "S_flat    = SS.ravel()\n",
    "KK_flat    = KK.ravel()\n",
    "TT_flat    = TT.ravel()\n",
    "rr_flat  = rr.ravel()\n",
    "σσ_flat = σσ.ravel()\n",
    "\n",
    "rows = np.column_stack((Y_flat, S_flat, KK_flat, TT_flat , rr_flat, σσ_flat))\n",
    "np.savetxt('datacall.csv', rows, fmt='%.5f', delimiter=',', newline='\\n', comments='', header='Call,S,K,T,r,sigma')\n",
    "print(\"Fichier datacall.csv sauvegardé avec succès !\")"
   ]
  },
  {
   "cell_type": "code",
   "execution_count": 67,
   "metadata": {},
   "outputs": [
    {
     "data": {
      "text/plain": [
       "['mlpregressor.joblib']"
      ]
     },
     "execution_count": 67,
     "metadata": {},
     "output_type": "execute_result"
    }
   ],
   "source": [
    "# train a MLP on the data and save trained model to disk\n",
    "import numpy as np\n",
    "import pandas as pd\n",
    "from sklearn.neural_network import MLPRegressor\n",
    "from sklearn.model_selection import train_test_split\n",
    "from joblib import dump, load\n",
    "\n",
    "df = pd.read_csv(\"datacall.csv\", dtype=np.float32)\n",
    "y = df.pop('Call').values\n",
    "# scaling S and K values\n",
    "df.S = df.S/100\n",
    "df.K = df.K/100\n",
    "X = df.values\n",
    "X_train, X_test, y_train, y_test = train_test_split(X, y, test_size=0.2, random_state=42)\n",
    "regr = MLPRegressor(random_state=42, max_iter=500).fit(X_train, y_train)\n",
    "regr.predict(X_test[:5])\n",
    "regr.score(X_test, y_test)\n",
    "dump(regr, 'mlpregressor.joblib')"
   ]
  },
  {
   "cell_type": "code",
   "execution_count": 70,
   "metadata": {},
   "outputs": [],
   "source": [
    "# create input data for inference\n",
    "!echo \"S,K,T,r,sigma\" > input1.csv\n",
    "!echo \"100,100,1,0.05,0.1\" >> input1.csv\n",
    "!echo \"100,100,1,0.05,0.11\" >> input1.csv\n",
    "!echo \"100,100,1,0.05,0.12\" >> input1.csv\n",
    "!echo \"99.8,100,1,0.05,0.11\" >> input1.csv\n",
    "!echo \"99.8,105,1,0.02,0.2\" >> input1.csv\n",
    "!echo \"95,125,0.5,0.02,0.2\" >> input1.csv"
   ]
  },
  {
   "cell_type": "code",
   "execution_count": 71,
   "metadata": {},
   "outputs": [
    {
     "name": "stdout",
     "output_type": "stream",
     "text": [
      "       S    K    T     r  sigma\n",
      "0  100.0  100  1.0  0.05   0.10\n",
      "1  100.0  100  1.0  0.05   0.11\n",
      "2  100.0  100  1.0  0.05   0.12\n",
      "3   99.8  100  1.0  0.05   0.11\n",
      "4   99.8  105  1.0  0.02   0.20\n",
      "5   95.0  125  0.5  0.02   0.20\n"
     ]
    },
    {
     "data": {
      "text/plain": [
       "array([ 6.73915706,  7.09936597,  7.45957488,  6.96970263,  6.11334984,\n",
       "       -9.57393822])"
      ]
     },
     "execution_count": 71,
     "metadata": {},
     "output_type": "execute_result"
    }
   ],
   "source": [
    "# reload the model and run inference on new data\n",
    "# ground truth is 6.8020, 7.1543, 7.5100, 7.0121, 6.2715, 0.1829\n",
    "regr = load('mlpregressor.joblib')\n",
    "df = pd.read_csv('input1.csv')\n",
    "print(df)\n",
    "df.S = df.S/100\n",
    "df.K = df.K/100\n",
    "regr.predict(df.values)"
   ]
  },
  {
   "cell_type": "markdown",
   "metadata": {},
   "source": [
    "# Conclusion\n",
    "Pretty good, except last one !<br>\n",
    "Interpolation : Maillage fin de notre data entrainement<br> \n",
    "Extrapolation : S=95 K=125, On n'a pas de tels points dans data d'entraînement"
   ]
  },
  {
   "cell_type": "code",
   "execution_count": null,
   "metadata": {},
   "outputs": [],
   "source": []
  }
 ],
 "metadata": {
  "colab": {
   "provenance": [],
   "toc_visible": true
  },
  "kernelspec": {
   "display_name": "Python 3 (ipykernel)",
   "language": "python",
   "name": "python3"
  },
  "language_info": {
   "codemirror_mode": {
    "name": "ipython",
    "version": 3
   },
   "file_extension": ".py",
   "mimetype": "text/x-python",
   "name": "python",
   "nbconvert_exporter": "python",
   "pygments_lexer": "ipython3",
   "version": "3.11.7"
  }
 },
 "nbformat": 4,
 "nbformat_minor": 4
}
